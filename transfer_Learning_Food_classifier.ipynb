{
  "nbformat": 4,
  "nbformat_minor": 0,
  "metadata": {
    "colab": {
      "provenance": [],
      "gpuType": "T4"
    },
    "kernelspec": {
      "name": "python3",
      "display_name": "Python 3"
    },
    "language_info": {
      "name": "python"
    },
    "accelerator": "GPU",
    "widgets": {
      "application/vnd.jupyter.widget-state+json": {
        "bd2aa9b2b5774345ae4598380c8ad190": {
          "model_module": "@jupyter-widgets/controls",
          "model_name": "HBoxModel",
          "model_module_version": "1.5.0",
          "state": {
            "_dom_classes": [],
            "_model_module": "@jupyter-widgets/controls",
            "_model_module_version": "1.5.0",
            "_model_name": "HBoxModel",
            "_view_count": null,
            "_view_module": "@jupyter-widgets/controls",
            "_view_module_version": "1.5.0",
            "_view_name": "HBoxView",
            "box_style": "",
            "children": [
              "IPY_MODEL_d6f47e7eaaf042498abc00d79ff626f9",
              "IPY_MODEL_aa2691a16a5c474085aae3f6b754bc7d",
              "IPY_MODEL_cbf7370cd07e4585a6f7ed37ffbff9b1"
            ],
            "layout": "IPY_MODEL_7e6bad83d64e49068971d61a65fa2b9d"
          }
        },
        "d6f47e7eaaf042498abc00d79ff626f9": {
          "model_module": "@jupyter-widgets/controls",
          "model_name": "HTMLModel",
          "model_module_version": "1.5.0",
          "state": {
            "_dom_classes": [],
            "_model_module": "@jupyter-widgets/controls",
            "_model_module_version": "1.5.0",
            "_model_name": "HTMLModel",
            "_view_count": null,
            "_view_module": "@jupyter-widgets/controls",
            "_view_module_version": "1.5.0",
            "_view_name": "HTMLView",
            "description": "",
            "description_tooltip": null,
            "layout": "IPY_MODEL_b5fbb622f8024385829bdc4e9d417264",
            "placeholder": "​",
            "style": "IPY_MODEL_c0815f572e1644af98944890892759ef",
            "value": "100%"
          }
        },
        "aa2691a16a5c474085aae3f6b754bc7d": {
          "model_module": "@jupyter-widgets/controls",
          "model_name": "FloatProgressModel",
          "model_module_version": "1.5.0",
          "state": {
            "_dom_classes": [],
            "_model_module": "@jupyter-widgets/controls",
            "_model_module_version": "1.5.0",
            "_model_name": "FloatProgressModel",
            "_view_count": null,
            "_view_module": "@jupyter-widgets/controls",
            "_view_module_version": "1.5.0",
            "_view_name": "ProgressView",
            "bar_style": "success",
            "description": "",
            "description_tooltip": null,
            "layout": "IPY_MODEL_d080afbf9c794078825e1359b69028b9",
            "max": 10,
            "min": 0,
            "orientation": "horizontal",
            "style": "IPY_MODEL_5c47d4f347ff4f0eb98c75a7b3f6b34c",
            "value": 10
          }
        },
        "cbf7370cd07e4585a6f7ed37ffbff9b1": {
          "model_module": "@jupyter-widgets/controls",
          "model_name": "HTMLModel",
          "model_module_version": "1.5.0",
          "state": {
            "_dom_classes": [],
            "_model_module": "@jupyter-widgets/controls",
            "_model_module_version": "1.5.0",
            "_model_name": "HTMLModel",
            "_view_count": null,
            "_view_module": "@jupyter-widgets/controls",
            "_view_module_version": "1.5.0",
            "_view_name": "HTMLView",
            "description": "",
            "description_tooltip": null,
            "layout": "IPY_MODEL_19f2ff89f0004d508cca374c4e4fd955",
            "placeholder": "​",
            "style": "IPY_MODEL_f6c1ec3661bf4798b9ca8357eff374f4",
            "value": " 10/10 [00:30&lt;00:00,  2.55s/it]"
          }
        },
        "7e6bad83d64e49068971d61a65fa2b9d": {
          "model_module": "@jupyter-widgets/base",
          "model_name": "LayoutModel",
          "model_module_version": "1.2.0",
          "state": {
            "_model_module": "@jupyter-widgets/base",
            "_model_module_version": "1.2.0",
            "_model_name": "LayoutModel",
            "_view_count": null,
            "_view_module": "@jupyter-widgets/base",
            "_view_module_version": "1.2.0",
            "_view_name": "LayoutView",
            "align_content": null,
            "align_items": null,
            "align_self": null,
            "border": null,
            "bottom": null,
            "display": null,
            "flex": null,
            "flex_flow": null,
            "grid_area": null,
            "grid_auto_columns": null,
            "grid_auto_flow": null,
            "grid_auto_rows": null,
            "grid_column": null,
            "grid_gap": null,
            "grid_row": null,
            "grid_template_areas": null,
            "grid_template_columns": null,
            "grid_template_rows": null,
            "height": null,
            "justify_content": null,
            "justify_items": null,
            "left": null,
            "margin": null,
            "max_height": null,
            "max_width": null,
            "min_height": null,
            "min_width": null,
            "object_fit": null,
            "object_position": null,
            "order": null,
            "overflow": null,
            "overflow_x": null,
            "overflow_y": null,
            "padding": null,
            "right": null,
            "top": null,
            "visibility": null,
            "width": null
          }
        },
        "b5fbb622f8024385829bdc4e9d417264": {
          "model_module": "@jupyter-widgets/base",
          "model_name": "LayoutModel",
          "model_module_version": "1.2.0",
          "state": {
            "_model_module": "@jupyter-widgets/base",
            "_model_module_version": "1.2.0",
            "_model_name": "LayoutModel",
            "_view_count": null,
            "_view_module": "@jupyter-widgets/base",
            "_view_module_version": "1.2.0",
            "_view_name": "LayoutView",
            "align_content": null,
            "align_items": null,
            "align_self": null,
            "border": null,
            "bottom": null,
            "display": null,
            "flex": null,
            "flex_flow": null,
            "grid_area": null,
            "grid_auto_columns": null,
            "grid_auto_flow": null,
            "grid_auto_rows": null,
            "grid_column": null,
            "grid_gap": null,
            "grid_row": null,
            "grid_template_areas": null,
            "grid_template_columns": null,
            "grid_template_rows": null,
            "height": null,
            "justify_content": null,
            "justify_items": null,
            "left": null,
            "margin": null,
            "max_height": null,
            "max_width": null,
            "min_height": null,
            "min_width": null,
            "object_fit": null,
            "object_position": null,
            "order": null,
            "overflow": null,
            "overflow_x": null,
            "overflow_y": null,
            "padding": null,
            "right": null,
            "top": null,
            "visibility": null,
            "width": null
          }
        },
        "c0815f572e1644af98944890892759ef": {
          "model_module": "@jupyter-widgets/controls",
          "model_name": "DescriptionStyleModel",
          "model_module_version": "1.5.0",
          "state": {
            "_model_module": "@jupyter-widgets/controls",
            "_model_module_version": "1.5.0",
            "_model_name": "DescriptionStyleModel",
            "_view_count": null,
            "_view_module": "@jupyter-widgets/base",
            "_view_module_version": "1.2.0",
            "_view_name": "StyleView",
            "description_width": ""
          }
        },
        "d080afbf9c794078825e1359b69028b9": {
          "model_module": "@jupyter-widgets/base",
          "model_name": "LayoutModel",
          "model_module_version": "1.2.0",
          "state": {
            "_model_module": "@jupyter-widgets/base",
            "_model_module_version": "1.2.0",
            "_model_name": "LayoutModel",
            "_view_count": null,
            "_view_module": "@jupyter-widgets/base",
            "_view_module_version": "1.2.0",
            "_view_name": "LayoutView",
            "align_content": null,
            "align_items": null,
            "align_self": null,
            "border": null,
            "bottom": null,
            "display": null,
            "flex": null,
            "flex_flow": null,
            "grid_area": null,
            "grid_auto_columns": null,
            "grid_auto_flow": null,
            "grid_auto_rows": null,
            "grid_column": null,
            "grid_gap": null,
            "grid_row": null,
            "grid_template_areas": null,
            "grid_template_columns": null,
            "grid_template_rows": null,
            "height": null,
            "justify_content": null,
            "justify_items": null,
            "left": null,
            "margin": null,
            "max_height": null,
            "max_width": null,
            "min_height": null,
            "min_width": null,
            "object_fit": null,
            "object_position": null,
            "order": null,
            "overflow": null,
            "overflow_x": null,
            "overflow_y": null,
            "padding": null,
            "right": null,
            "top": null,
            "visibility": null,
            "width": null
          }
        },
        "5c47d4f347ff4f0eb98c75a7b3f6b34c": {
          "model_module": "@jupyter-widgets/controls",
          "model_name": "ProgressStyleModel",
          "model_module_version": "1.5.0",
          "state": {
            "_model_module": "@jupyter-widgets/controls",
            "_model_module_version": "1.5.0",
            "_model_name": "ProgressStyleModel",
            "_view_count": null,
            "_view_module": "@jupyter-widgets/base",
            "_view_module_version": "1.2.0",
            "_view_name": "StyleView",
            "bar_color": null,
            "description_width": ""
          }
        },
        "19f2ff89f0004d508cca374c4e4fd955": {
          "model_module": "@jupyter-widgets/base",
          "model_name": "LayoutModel",
          "model_module_version": "1.2.0",
          "state": {
            "_model_module": "@jupyter-widgets/base",
            "_model_module_version": "1.2.0",
            "_model_name": "LayoutModel",
            "_view_count": null,
            "_view_module": "@jupyter-widgets/base",
            "_view_module_version": "1.2.0",
            "_view_name": "LayoutView",
            "align_content": null,
            "align_items": null,
            "align_self": null,
            "border": null,
            "bottom": null,
            "display": null,
            "flex": null,
            "flex_flow": null,
            "grid_area": null,
            "grid_auto_columns": null,
            "grid_auto_flow": null,
            "grid_auto_rows": null,
            "grid_column": null,
            "grid_gap": null,
            "grid_row": null,
            "grid_template_areas": null,
            "grid_template_columns": null,
            "grid_template_rows": null,
            "height": null,
            "justify_content": null,
            "justify_items": null,
            "left": null,
            "margin": null,
            "max_height": null,
            "max_width": null,
            "min_height": null,
            "min_width": null,
            "object_fit": null,
            "object_position": null,
            "order": null,
            "overflow": null,
            "overflow_x": null,
            "overflow_y": null,
            "padding": null,
            "right": null,
            "top": null,
            "visibility": null,
            "width": null
          }
        },
        "f6c1ec3661bf4798b9ca8357eff374f4": {
          "model_module": "@jupyter-widgets/controls",
          "model_name": "DescriptionStyleModel",
          "model_module_version": "1.5.0",
          "state": {
            "_model_module": "@jupyter-widgets/controls",
            "_model_module_version": "1.5.0",
            "_model_name": "DescriptionStyleModel",
            "_view_count": null,
            "_view_module": "@jupyter-widgets/base",
            "_view_module_version": "1.2.0",
            "_view_name": "StyleView",
            "description_width": ""
          }
        }
      }
    }
  },
  "cells": [
    {
      "cell_type": "code",
      "execution_count": null,
      "metadata": {
        "colab": {
          "base_uri": "https://localhost:8080/"
        },
        "id": "3rSo67Mkphxl",
        "outputId": "909635f8-44d8-480a-9bec-e6a42f94c261"
      },
      "outputs": [
        {
          "output_type": "stream",
          "name": "stdout",
          "text": [
            "[INFO] Couldn't finf torchinfo...installing!!\n",
            "Collecting torchinfo\n",
            "  Downloading torchinfo-1.8.0-py3-none-any.whl.metadata (21 kB)\n",
            "Downloading torchinfo-1.8.0-py3-none-any.whl (23 kB)\n",
            "Installing collected packages: torchinfo\n",
            "Successfully installed torchinfo-1.8.0\n"
          ]
        }
      ],
      "source": [
        "import matplotlib.pyplot as plt\n",
        "import torch\n",
        "import torchvision\n",
        "\n",
        "from torch import nn\n",
        "from torchvision import transforms, datasets\n",
        "from torch.utils.data import DataLoader\n",
        "\n",
        "try:\n",
        "  from torchvision import summary\n",
        "except:\n",
        "  print(\"[INFO] Couldn't finf torchinfo...installing!!\")\n",
        "  !pip install torchinfo\n",
        "  from torchinfo import summary"
      ]
    },
    {
      "cell_type": "code",
      "source": [
        "device = \"cuda\" if torch.cuda.is_available() else \"cpu\"\n",
        "device"
      ],
      "metadata": {
        "colab": {
          "base_uri": "https://localhost:8080/",
          "height": 35
        },
        "id": "dqW_4B1Ftevz",
        "outputId": "2f72fa75-6f18-4363-fa39-ed87fb22479e"
      },
      "execution_count": null,
      "outputs": [
        {
          "output_type": "execute_result",
          "data": {
            "text/plain": [
              "'cuda'"
            ],
            "application/vnd.google.colaboratory.intrinsic+json": {
              "type": "string"
            }
          },
          "metadata": {},
          "execution_count": 2
        }
      ]
    },
    {
      "cell_type": "code",
      "source": [
        "import os\n",
        "import zipfile\n",
        "from pathlib import Path\n",
        "import requests\n",
        "\n",
        "data_path = Path(\"data/\")\n",
        "image_path = data_path/ \"pizza_steak_sushi\"\n",
        "\n",
        "if image_path.is_dir():\n",
        "  print(f\"{image_path} already exists...\")\n",
        "else:\n",
        "  print(f\"Didn't find {image_path}, so creating new one...\")\n",
        "  image_path.mkdir(parents=True, exist_ok=True)\n",
        "\n",
        "  with open(data_path / \"pizza_steak_sushi.zip\", \"wb\") as f:\n",
        "        request = requests.get(\"https://github.com/mrdbourke/pytorch-deep-learning/raw/main/data/pizza_steak_sushi.zip\")\n",
        "        print(\"Downloading pizza, steak, sushi data...\")\n",
        "        f.write(request.content)\n",
        "\n",
        "  with zipfile.ZipFile(data_path / \"pizza_steak_sushi.zip\", \"r\") as zip_ref:\n",
        "        print(\"Unzipping pizza, steak, sushi data...\")\n",
        "        zip_ref.extractall(image_path)\n",
        "\n",
        "  os.remove(data_path / \"pizza_steak_sushi.zip\")"
      ],
      "metadata": {
        "colab": {
          "base_uri": "https://localhost:8080/"
        },
        "id": "FTJImCHnt5Zq",
        "outputId": "cf6eabcf-8ea7-459c-e4c9-98fd37096ae0"
      },
      "execution_count": null,
      "outputs": [
        {
          "output_type": "stream",
          "name": "stdout",
          "text": [
            "Didn't find data/pizza_steak_sushi, so creating new one...\n",
            "Downloading pizza, steak, sushi data...\n",
            "Unzipping pizza, steak, sushi data...\n"
          ]
        }
      ]
    },
    {
      "cell_type": "code",
      "source": [
        "train_dir = image_path/\"train\"\n",
        "test_dir = image_path/\"test\""
      ],
      "metadata": {
        "id": "6zzN49jtvWD3"
      },
      "execution_count": null,
      "outputs": []
    },
    {
      "cell_type": "code",
      "source": [
        "train_dir"
      ],
      "metadata": {
        "colab": {
          "base_uri": "https://localhost:8080/"
        },
        "id": "n8ar2BTdwyi9",
        "outputId": "6b366929-5a4d-4d0f-e5ba-1c4dfad33bc2"
      },
      "execution_count": null,
      "outputs": [
        {
          "output_type": "execute_result",
          "data": {
            "text/plain": [
              "PosixPath('data/pizza_steak_sushi/train')"
            ]
          },
          "metadata": {},
          "execution_count": 5
        }
      ]
    },
    {
      "cell_type": "code",
      "source": [
        "data_transforms = transforms.Compose([\n",
        "    transforms.Resize(size=(224, 224)),\n",
        "    transforms.ToTensor(),\n",
        "    transforms.Normalize(mean=[0.485, 0.456, 0.406], std=[0.229, 0.224, 0.225])\n",
        "])"
      ],
      "metadata": {
        "id": "InBEJLFHw21P"
      },
      "execution_count": null,
      "outputs": []
    },
    {
      "cell_type": "code",
      "source": [
        "def create_dataloaders(\n",
        "    train_dir: str,\n",
        "    test_dir: str,\n",
        "    transform: transforms.Compose,\n",
        "    batch_size: int,\n",
        "):\n",
        "  train_data = datasets.ImageFolder(train_dir, transform=transform)\n",
        "  test_data = datasets.ImageFolder(test_dir, transform=transform)\n",
        "\n",
        "  class_names = train_data.classes\n",
        "\n",
        "  train_dataloader = DataLoader(train_data, batch_size=batch_size, shuffle=True)\n",
        "  test_dataloader = DataLoader(test_data, batch_size=batch_size, shuffle=True)\n",
        "\n",
        "  return train_dataloader, test_dataloader, class_names"
      ],
      "metadata": {
        "id": "-5sjd-hQ8G7L"
      },
      "execution_count": null,
      "outputs": []
    },
    {
      "cell_type": "code",
      "source": [
        "train_dataloader, test_dataloader, class_names = create_dataloaders(\n",
        "    train_dir = train_dir, test_dir = test_dir, transform=data_transforms, batch_size=32\n",
        ")\n",
        "\n",
        "train_dataloader, test_dataloader, class_names"
      ],
      "metadata": {
        "colab": {
          "base_uri": "https://localhost:8080/"
        },
        "id": "2KDu7ezW_NCE",
        "outputId": "f6525b7a-d6a3-481c-f9f3-db088f2ad3aa"
      },
      "execution_count": null,
      "outputs": [
        {
          "output_type": "execute_result",
          "data": {
            "text/plain": [
              "(<torch.utils.data.dataloader.DataLoader at 0x7ff94d28fa10>,\n",
              " <torch.utils.data.dataloader.DataLoader at 0x7ffa611fe3d0>,\n",
              " ['pizza', 'steak', 'sushi'])"
            ]
          },
          "metadata": {},
          "execution_count": 8
        }
      ]
    },
    {
      "cell_type": "markdown",
      "source": [
        "### Above methods were old methods now we have new more advance methods"
      ],
      "metadata": {
        "id": "wGJnOPIbBEMi"
      }
    },
    {
      "cell_type": "code",
      "source": [
        "# Get a set of pretrained model weights\n",
        "weights = torchvision.models.EfficientNet_B0_Weights.DEFAULT # .DEFAULT = best available weights from pretraining on ImageNet\n",
        "weights"
      ],
      "metadata": {
        "colab": {
          "base_uri": "https://localhost:8080/"
        },
        "id": "TAQZ68c7AQ8a",
        "outputId": "4f46b49e-082d-45ed-9375-cbe67a71021b"
      },
      "execution_count": null,
      "outputs": [
        {
          "output_type": "execute_result",
          "data": {
            "text/plain": [
              "EfficientNet_B0_Weights.IMAGENET1K_V1"
            ]
          },
          "metadata": {},
          "execution_count": 9
        }
      ]
    },
    {
      "cell_type": "code",
      "source": [
        "auto_transforms = weights.transforms()\n",
        "auto_transforms"
      ],
      "metadata": {
        "colab": {
          "base_uri": "https://localhost:8080/"
        },
        "id": "YcpAPLTWBY4W",
        "outputId": "471a102a-8c62-495b-e716-e108855fd84b"
      },
      "execution_count": null,
      "outputs": [
        {
          "output_type": "execute_result",
          "data": {
            "text/plain": [
              "ImageClassification(\n",
              "    crop_size=[224]\n",
              "    resize_size=[256]\n",
              "    mean=[0.485, 0.456, 0.406]\n",
              "    std=[0.229, 0.224, 0.225]\n",
              "    interpolation=InterpolationMode.BICUBIC\n",
              ")"
            ]
          },
          "metadata": {},
          "execution_count": 10
        }
      ]
    },
    {
      "cell_type": "code",
      "source": [
        "train_dataloader, test_dataloader, class_names = create_dataloaders(train_dir=train_dir, test_dir=test_dir, transform=auto_transforms, batch_size=32)\n",
        "\n",
        "train_dataloader, test_dataloader, class_names"
      ],
      "metadata": {
        "colab": {
          "base_uri": "https://localhost:8080/"
        },
        "id": "d_KZEXQQBgTA",
        "outputId": "4adcd5bf-fd42-4a4b-db65-52be3fe243bd"
      },
      "execution_count": null,
      "outputs": [
        {
          "output_type": "execute_result",
          "data": {
            "text/plain": [
              "(<torch.utils.data.dataloader.DataLoader at 0x7ff94d2a3790>,\n",
              " <torch.utils.data.dataloader.DataLoader at 0x7ff94d297cd0>,\n",
              " ['pizza', 'steak', 'sushi'])"
            ]
          },
          "metadata": {},
          "execution_count": 11
        }
      ]
    },
    {
      "cell_type": "markdown",
      "source": [
        "### Setup a pretrained model"
      ],
      "metadata": {
        "id": "M18hzZWcC4WM"
      }
    },
    {
      "cell_type": "code",
      "source": [
        "weights = torchvision.models.EfficientNet_B0_Weights.DEFAULT"
      ],
      "metadata": {
        "id": "vDYIAhCLDjTu"
      },
      "execution_count": null,
      "outputs": []
    },
    {
      "cell_type": "code",
      "source": [
        "model = torchvision.models.efficientnet_b0(weights=weights).to(device)\n",
        "model"
      ],
      "metadata": {
        "colab": {
          "base_uri": "https://localhost:8080/"
        },
        "id": "uTSK123dDp7N",
        "outputId": "d2405313-4a93-42b7-cc18-bdf1da38f8d6"
      },
      "execution_count": null,
      "outputs": [
        {
          "output_type": "stream",
          "name": "stderr",
          "text": [
            "Downloading: \"https://download.pytorch.org/models/efficientnet_b0_rwightman-7f5810bc.pth\" to /root/.cache/torch/hub/checkpoints/efficientnet_b0_rwightman-7f5810bc.pth\n",
            "100%|██████████| 20.5M/20.5M [00:00<00:00, 86.8MB/s]\n"
          ]
        },
        {
          "output_type": "execute_result",
          "data": {
            "text/plain": [
              "EfficientNet(\n",
              "  (features): Sequential(\n",
              "    (0): Conv2dNormActivation(\n",
              "      (0): Conv2d(3, 32, kernel_size=(3, 3), stride=(2, 2), padding=(1, 1), bias=False)\n",
              "      (1): BatchNorm2d(32, eps=1e-05, momentum=0.1, affine=True, track_running_stats=True)\n",
              "      (2): SiLU(inplace=True)\n",
              "    )\n",
              "    (1): Sequential(\n",
              "      (0): MBConv(\n",
              "        (block): Sequential(\n",
              "          (0): Conv2dNormActivation(\n",
              "            (0): Conv2d(32, 32, kernel_size=(3, 3), stride=(1, 1), padding=(1, 1), groups=32, bias=False)\n",
              "            (1): BatchNorm2d(32, eps=1e-05, momentum=0.1, affine=True, track_running_stats=True)\n",
              "            (2): SiLU(inplace=True)\n",
              "          )\n",
              "          (1): SqueezeExcitation(\n",
              "            (avgpool): AdaptiveAvgPool2d(output_size=1)\n",
              "            (fc1): Conv2d(32, 8, kernel_size=(1, 1), stride=(1, 1))\n",
              "            (fc2): Conv2d(8, 32, kernel_size=(1, 1), stride=(1, 1))\n",
              "            (activation): SiLU(inplace=True)\n",
              "            (scale_activation): Sigmoid()\n",
              "          )\n",
              "          (2): Conv2dNormActivation(\n",
              "            (0): Conv2d(32, 16, kernel_size=(1, 1), stride=(1, 1), bias=False)\n",
              "            (1): BatchNorm2d(16, eps=1e-05, momentum=0.1, affine=True, track_running_stats=True)\n",
              "          )\n",
              "        )\n",
              "        (stochastic_depth): StochasticDepth(p=0.0, mode=row)\n",
              "      )\n",
              "    )\n",
              "    (2): Sequential(\n",
              "      (0): MBConv(\n",
              "        (block): Sequential(\n",
              "          (0): Conv2dNormActivation(\n",
              "            (0): Conv2d(16, 96, kernel_size=(1, 1), stride=(1, 1), bias=False)\n",
              "            (1): BatchNorm2d(96, eps=1e-05, momentum=0.1, affine=True, track_running_stats=True)\n",
              "            (2): SiLU(inplace=True)\n",
              "          )\n",
              "          (1): Conv2dNormActivation(\n",
              "            (0): Conv2d(96, 96, kernel_size=(3, 3), stride=(2, 2), padding=(1, 1), groups=96, bias=False)\n",
              "            (1): BatchNorm2d(96, eps=1e-05, momentum=0.1, affine=True, track_running_stats=True)\n",
              "            (2): SiLU(inplace=True)\n",
              "          )\n",
              "          (2): SqueezeExcitation(\n",
              "            (avgpool): AdaptiveAvgPool2d(output_size=1)\n",
              "            (fc1): Conv2d(96, 4, kernel_size=(1, 1), stride=(1, 1))\n",
              "            (fc2): Conv2d(4, 96, kernel_size=(1, 1), stride=(1, 1))\n",
              "            (activation): SiLU(inplace=True)\n",
              "            (scale_activation): Sigmoid()\n",
              "          )\n",
              "          (3): Conv2dNormActivation(\n",
              "            (0): Conv2d(96, 24, kernel_size=(1, 1), stride=(1, 1), bias=False)\n",
              "            (1): BatchNorm2d(24, eps=1e-05, momentum=0.1, affine=True, track_running_stats=True)\n",
              "          )\n",
              "        )\n",
              "        (stochastic_depth): StochasticDepth(p=0.0125, mode=row)\n",
              "      )\n",
              "      (1): MBConv(\n",
              "        (block): Sequential(\n",
              "          (0): Conv2dNormActivation(\n",
              "            (0): Conv2d(24, 144, kernel_size=(1, 1), stride=(1, 1), bias=False)\n",
              "            (1): BatchNorm2d(144, eps=1e-05, momentum=0.1, affine=True, track_running_stats=True)\n",
              "            (2): SiLU(inplace=True)\n",
              "          )\n",
              "          (1): Conv2dNormActivation(\n",
              "            (0): Conv2d(144, 144, kernel_size=(3, 3), stride=(1, 1), padding=(1, 1), groups=144, bias=False)\n",
              "            (1): BatchNorm2d(144, eps=1e-05, momentum=0.1, affine=True, track_running_stats=True)\n",
              "            (2): SiLU(inplace=True)\n",
              "          )\n",
              "          (2): SqueezeExcitation(\n",
              "            (avgpool): AdaptiveAvgPool2d(output_size=1)\n",
              "            (fc1): Conv2d(144, 6, kernel_size=(1, 1), stride=(1, 1))\n",
              "            (fc2): Conv2d(6, 144, kernel_size=(1, 1), stride=(1, 1))\n",
              "            (activation): SiLU(inplace=True)\n",
              "            (scale_activation): Sigmoid()\n",
              "          )\n",
              "          (3): Conv2dNormActivation(\n",
              "            (0): Conv2d(144, 24, kernel_size=(1, 1), stride=(1, 1), bias=False)\n",
              "            (1): BatchNorm2d(24, eps=1e-05, momentum=0.1, affine=True, track_running_stats=True)\n",
              "          )\n",
              "        )\n",
              "        (stochastic_depth): StochasticDepth(p=0.025, mode=row)\n",
              "      )\n",
              "    )\n",
              "    (3): Sequential(\n",
              "      (0): MBConv(\n",
              "        (block): Sequential(\n",
              "          (0): Conv2dNormActivation(\n",
              "            (0): Conv2d(24, 144, kernel_size=(1, 1), stride=(1, 1), bias=False)\n",
              "            (1): BatchNorm2d(144, eps=1e-05, momentum=0.1, affine=True, track_running_stats=True)\n",
              "            (2): SiLU(inplace=True)\n",
              "          )\n",
              "          (1): Conv2dNormActivation(\n",
              "            (0): Conv2d(144, 144, kernel_size=(5, 5), stride=(2, 2), padding=(2, 2), groups=144, bias=False)\n",
              "            (1): BatchNorm2d(144, eps=1e-05, momentum=0.1, affine=True, track_running_stats=True)\n",
              "            (2): SiLU(inplace=True)\n",
              "          )\n",
              "          (2): SqueezeExcitation(\n",
              "            (avgpool): AdaptiveAvgPool2d(output_size=1)\n",
              "            (fc1): Conv2d(144, 6, kernel_size=(1, 1), stride=(1, 1))\n",
              "            (fc2): Conv2d(6, 144, kernel_size=(1, 1), stride=(1, 1))\n",
              "            (activation): SiLU(inplace=True)\n",
              "            (scale_activation): Sigmoid()\n",
              "          )\n",
              "          (3): Conv2dNormActivation(\n",
              "            (0): Conv2d(144, 40, kernel_size=(1, 1), stride=(1, 1), bias=False)\n",
              "            (1): BatchNorm2d(40, eps=1e-05, momentum=0.1, affine=True, track_running_stats=True)\n",
              "          )\n",
              "        )\n",
              "        (stochastic_depth): StochasticDepth(p=0.037500000000000006, mode=row)\n",
              "      )\n",
              "      (1): MBConv(\n",
              "        (block): Sequential(\n",
              "          (0): Conv2dNormActivation(\n",
              "            (0): Conv2d(40, 240, kernel_size=(1, 1), stride=(1, 1), bias=False)\n",
              "            (1): BatchNorm2d(240, eps=1e-05, momentum=0.1, affine=True, track_running_stats=True)\n",
              "            (2): SiLU(inplace=True)\n",
              "          )\n",
              "          (1): Conv2dNormActivation(\n",
              "            (0): Conv2d(240, 240, kernel_size=(5, 5), stride=(1, 1), padding=(2, 2), groups=240, bias=False)\n",
              "            (1): BatchNorm2d(240, eps=1e-05, momentum=0.1, affine=True, track_running_stats=True)\n",
              "            (2): SiLU(inplace=True)\n",
              "          )\n",
              "          (2): SqueezeExcitation(\n",
              "            (avgpool): AdaptiveAvgPool2d(output_size=1)\n",
              "            (fc1): Conv2d(240, 10, kernel_size=(1, 1), stride=(1, 1))\n",
              "            (fc2): Conv2d(10, 240, kernel_size=(1, 1), stride=(1, 1))\n",
              "            (activation): SiLU(inplace=True)\n",
              "            (scale_activation): Sigmoid()\n",
              "          )\n",
              "          (3): Conv2dNormActivation(\n",
              "            (0): Conv2d(240, 40, kernel_size=(1, 1), stride=(1, 1), bias=False)\n",
              "            (1): BatchNorm2d(40, eps=1e-05, momentum=0.1, affine=True, track_running_stats=True)\n",
              "          )\n",
              "        )\n",
              "        (stochastic_depth): StochasticDepth(p=0.05, mode=row)\n",
              "      )\n",
              "    )\n",
              "    (4): Sequential(\n",
              "      (0): MBConv(\n",
              "        (block): Sequential(\n",
              "          (0): Conv2dNormActivation(\n",
              "            (0): Conv2d(40, 240, kernel_size=(1, 1), stride=(1, 1), bias=False)\n",
              "            (1): BatchNorm2d(240, eps=1e-05, momentum=0.1, affine=True, track_running_stats=True)\n",
              "            (2): SiLU(inplace=True)\n",
              "          )\n",
              "          (1): Conv2dNormActivation(\n",
              "            (0): Conv2d(240, 240, kernel_size=(3, 3), stride=(2, 2), padding=(1, 1), groups=240, bias=False)\n",
              "            (1): BatchNorm2d(240, eps=1e-05, momentum=0.1, affine=True, track_running_stats=True)\n",
              "            (2): SiLU(inplace=True)\n",
              "          )\n",
              "          (2): SqueezeExcitation(\n",
              "            (avgpool): AdaptiveAvgPool2d(output_size=1)\n",
              "            (fc1): Conv2d(240, 10, kernel_size=(1, 1), stride=(1, 1))\n",
              "            (fc2): Conv2d(10, 240, kernel_size=(1, 1), stride=(1, 1))\n",
              "            (activation): SiLU(inplace=True)\n",
              "            (scale_activation): Sigmoid()\n",
              "          )\n",
              "          (3): Conv2dNormActivation(\n",
              "            (0): Conv2d(240, 80, kernel_size=(1, 1), stride=(1, 1), bias=False)\n",
              "            (1): BatchNorm2d(80, eps=1e-05, momentum=0.1, affine=True, track_running_stats=True)\n",
              "          )\n",
              "        )\n",
              "        (stochastic_depth): StochasticDepth(p=0.0625, mode=row)\n",
              "      )\n",
              "      (1): MBConv(\n",
              "        (block): Sequential(\n",
              "          (0): Conv2dNormActivation(\n",
              "            (0): Conv2d(80, 480, kernel_size=(1, 1), stride=(1, 1), bias=False)\n",
              "            (1): BatchNorm2d(480, eps=1e-05, momentum=0.1, affine=True, track_running_stats=True)\n",
              "            (2): SiLU(inplace=True)\n",
              "          )\n",
              "          (1): Conv2dNormActivation(\n",
              "            (0): Conv2d(480, 480, kernel_size=(3, 3), stride=(1, 1), padding=(1, 1), groups=480, bias=False)\n",
              "            (1): BatchNorm2d(480, eps=1e-05, momentum=0.1, affine=True, track_running_stats=True)\n",
              "            (2): SiLU(inplace=True)\n",
              "          )\n",
              "          (2): SqueezeExcitation(\n",
              "            (avgpool): AdaptiveAvgPool2d(output_size=1)\n",
              "            (fc1): Conv2d(480, 20, kernel_size=(1, 1), stride=(1, 1))\n",
              "            (fc2): Conv2d(20, 480, kernel_size=(1, 1), stride=(1, 1))\n",
              "            (activation): SiLU(inplace=True)\n",
              "            (scale_activation): Sigmoid()\n",
              "          )\n",
              "          (3): Conv2dNormActivation(\n",
              "            (0): Conv2d(480, 80, kernel_size=(1, 1), stride=(1, 1), bias=False)\n",
              "            (1): BatchNorm2d(80, eps=1e-05, momentum=0.1, affine=True, track_running_stats=True)\n",
              "          )\n",
              "        )\n",
              "        (stochastic_depth): StochasticDepth(p=0.07500000000000001, mode=row)\n",
              "      )\n",
              "      (2): MBConv(\n",
              "        (block): Sequential(\n",
              "          (0): Conv2dNormActivation(\n",
              "            (0): Conv2d(80, 480, kernel_size=(1, 1), stride=(1, 1), bias=False)\n",
              "            (1): BatchNorm2d(480, eps=1e-05, momentum=0.1, affine=True, track_running_stats=True)\n",
              "            (2): SiLU(inplace=True)\n",
              "          )\n",
              "          (1): Conv2dNormActivation(\n",
              "            (0): Conv2d(480, 480, kernel_size=(3, 3), stride=(1, 1), padding=(1, 1), groups=480, bias=False)\n",
              "            (1): BatchNorm2d(480, eps=1e-05, momentum=0.1, affine=True, track_running_stats=True)\n",
              "            (2): SiLU(inplace=True)\n",
              "          )\n",
              "          (2): SqueezeExcitation(\n",
              "            (avgpool): AdaptiveAvgPool2d(output_size=1)\n",
              "            (fc1): Conv2d(480, 20, kernel_size=(1, 1), stride=(1, 1))\n",
              "            (fc2): Conv2d(20, 480, kernel_size=(1, 1), stride=(1, 1))\n",
              "            (activation): SiLU(inplace=True)\n",
              "            (scale_activation): Sigmoid()\n",
              "          )\n",
              "          (3): Conv2dNormActivation(\n",
              "            (0): Conv2d(480, 80, kernel_size=(1, 1), stride=(1, 1), bias=False)\n",
              "            (1): BatchNorm2d(80, eps=1e-05, momentum=0.1, affine=True, track_running_stats=True)\n",
              "          )\n",
              "        )\n",
              "        (stochastic_depth): StochasticDepth(p=0.08750000000000001, mode=row)\n",
              "      )\n",
              "    )\n",
              "    (5): Sequential(\n",
              "      (0): MBConv(\n",
              "        (block): Sequential(\n",
              "          (0): Conv2dNormActivation(\n",
              "            (0): Conv2d(80, 480, kernel_size=(1, 1), stride=(1, 1), bias=False)\n",
              "            (1): BatchNorm2d(480, eps=1e-05, momentum=0.1, affine=True, track_running_stats=True)\n",
              "            (2): SiLU(inplace=True)\n",
              "          )\n",
              "          (1): Conv2dNormActivation(\n",
              "            (0): Conv2d(480, 480, kernel_size=(5, 5), stride=(1, 1), padding=(2, 2), groups=480, bias=False)\n",
              "            (1): BatchNorm2d(480, eps=1e-05, momentum=0.1, affine=True, track_running_stats=True)\n",
              "            (2): SiLU(inplace=True)\n",
              "          )\n",
              "          (2): SqueezeExcitation(\n",
              "            (avgpool): AdaptiveAvgPool2d(output_size=1)\n",
              "            (fc1): Conv2d(480, 20, kernel_size=(1, 1), stride=(1, 1))\n",
              "            (fc2): Conv2d(20, 480, kernel_size=(1, 1), stride=(1, 1))\n",
              "            (activation): SiLU(inplace=True)\n",
              "            (scale_activation): Sigmoid()\n",
              "          )\n",
              "          (3): Conv2dNormActivation(\n",
              "            (0): Conv2d(480, 112, kernel_size=(1, 1), stride=(1, 1), bias=False)\n",
              "            (1): BatchNorm2d(112, eps=1e-05, momentum=0.1, affine=True, track_running_stats=True)\n",
              "          )\n",
              "        )\n",
              "        (stochastic_depth): StochasticDepth(p=0.1, mode=row)\n",
              "      )\n",
              "      (1): MBConv(\n",
              "        (block): Sequential(\n",
              "          (0): Conv2dNormActivation(\n",
              "            (0): Conv2d(112, 672, kernel_size=(1, 1), stride=(1, 1), bias=False)\n",
              "            (1): BatchNorm2d(672, eps=1e-05, momentum=0.1, affine=True, track_running_stats=True)\n",
              "            (2): SiLU(inplace=True)\n",
              "          )\n",
              "          (1): Conv2dNormActivation(\n",
              "            (0): Conv2d(672, 672, kernel_size=(5, 5), stride=(1, 1), padding=(2, 2), groups=672, bias=False)\n",
              "            (1): BatchNorm2d(672, eps=1e-05, momentum=0.1, affine=True, track_running_stats=True)\n",
              "            (2): SiLU(inplace=True)\n",
              "          )\n",
              "          (2): SqueezeExcitation(\n",
              "            (avgpool): AdaptiveAvgPool2d(output_size=1)\n",
              "            (fc1): Conv2d(672, 28, kernel_size=(1, 1), stride=(1, 1))\n",
              "            (fc2): Conv2d(28, 672, kernel_size=(1, 1), stride=(1, 1))\n",
              "            (activation): SiLU(inplace=True)\n",
              "            (scale_activation): Sigmoid()\n",
              "          )\n",
              "          (3): Conv2dNormActivation(\n",
              "            (0): Conv2d(672, 112, kernel_size=(1, 1), stride=(1, 1), bias=False)\n",
              "            (1): BatchNorm2d(112, eps=1e-05, momentum=0.1, affine=True, track_running_stats=True)\n",
              "          )\n",
              "        )\n",
              "        (stochastic_depth): StochasticDepth(p=0.1125, mode=row)\n",
              "      )\n",
              "      (2): MBConv(\n",
              "        (block): Sequential(\n",
              "          (0): Conv2dNormActivation(\n",
              "            (0): Conv2d(112, 672, kernel_size=(1, 1), stride=(1, 1), bias=False)\n",
              "            (1): BatchNorm2d(672, eps=1e-05, momentum=0.1, affine=True, track_running_stats=True)\n",
              "            (2): SiLU(inplace=True)\n",
              "          )\n",
              "          (1): Conv2dNormActivation(\n",
              "            (0): Conv2d(672, 672, kernel_size=(5, 5), stride=(1, 1), padding=(2, 2), groups=672, bias=False)\n",
              "            (1): BatchNorm2d(672, eps=1e-05, momentum=0.1, affine=True, track_running_stats=True)\n",
              "            (2): SiLU(inplace=True)\n",
              "          )\n",
              "          (2): SqueezeExcitation(\n",
              "            (avgpool): AdaptiveAvgPool2d(output_size=1)\n",
              "            (fc1): Conv2d(672, 28, kernel_size=(1, 1), stride=(1, 1))\n",
              "            (fc2): Conv2d(28, 672, kernel_size=(1, 1), stride=(1, 1))\n",
              "            (activation): SiLU(inplace=True)\n",
              "            (scale_activation): Sigmoid()\n",
              "          )\n",
              "          (3): Conv2dNormActivation(\n",
              "            (0): Conv2d(672, 112, kernel_size=(1, 1), stride=(1, 1), bias=False)\n",
              "            (1): BatchNorm2d(112, eps=1e-05, momentum=0.1, affine=True, track_running_stats=True)\n",
              "          )\n",
              "        )\n",
              "        (stochastic_depth): StochasticDepth(p=0.125, mode=row)\n",
              "      )\n",
              "    )\n",
              "    (6): Sequential(\n",
              "      (0): MBConv(\n",
              "        (block): Sequential(\n",
              "          (0): Conv2dNormActivation(\n",
              "            (0): Conv2d(112, 672, kernel_size=(1, 1), stride=(1, 1), bias=False)\n",
              "            (1): BatchNorm2d(672, eps=1e-05, momentum=0.1, affine=True, track_running_stats=True)\n",
              "            (2): SiLU(inplace=True)\n",
              "          )\n",
              "          (1): Conv2dNormActivation(\n",
              "            (0): Conv2d(672, 672, kernel_size=(5, 5), stride=(2, 2), padding=(2, 2), groups=672, bias=False)\n",
              "            (1): BatchNorm2d(672, eps=1e-05, momentum=0.1, affine=True, track_running_stats=True)\n",
              "            (2): SiLU(inplace=True)\n",
              "          )\n",
              "          (2): SqueezeExcitation(\n",
              "            (avgpool): AdaptiveAvgPool2d(output_size=1)\n",
              "            (fc1): Conv2d(672, 28, kernel_size=(1, 1), stride=(1, 1))\n",
              "            (fc2): Conv2d(28, 672, kernel_size=(1, 1), stride=(1, 1))\n",
              "            (activation): SiLU(inplace=True)\n",
              "            (scale_activation): Sigmoid()\n",
              "          )\n",
              "          (3): Conv2dNormActivation(\n",
              "            (0): Conv2d(672, 192, kernel_size=(1, 1), stride=(1, 1), bias=False)\n",
              "            (1): BatchNorm2d(192, eps=1e-05, momentum=0.1, affine=True, track_running_stats=True)\n",
              "          )\n",
              "        )\n",
              "        (stochastic_depth): StochasticDepth(p=0.1375, mode=row)\n",
              "      )\n",
              "      (1): MBConv(\n",
              "        (block): Sequential(\n",
              "          (0): Conv2dNormActivation(\n",
              "            (0): Conv2d(192, 1152, kernel_size=(1, 1), stride=(1, 1), bias=False)\n",
              "            (1): BatchNorm2d(1152, eps=1e-05, momentum=0.1, affine=True, track_running_stats=True)\n",
              "            (2): SiLU(inplace=True)\n",
              "          )\n",
              "          (1): Conv2dNormActivation(\n",
              "            (0): Conv2d(1152, 1152, kernel_size=(5, 5), stride=(1, 1), padding=(2, 2), groups=1152, bias=False)\n",
              "            (1): BatchNorm2d(1152, eps=1e-05, momentum=0.1, affine=True, track_running_stats=True)\n",
              "            (2): SiLU(inplace=True)\n",
              "          )\n",
              "          (2): SqueezeExcitation(\n",
              "            (avgpool): AdaptiveAvgPool2d(output_size=1)\n",
              "            (fc1): Conv2d(1152, 48, kernel_size=(1, 1), stride=(1, 1))\n",
              "            (fc2): Conv2d(48, 1152, kernel_size=(1, 1), stride=(1, 1))\n",
              "            (activation): SiLU(inplace=True)\n",
              "            (scale_activation): Sigmoid()\n",
              "          )\n",
              "          (3): Conv2dNormActivation(\n",
              "            (0): Conv2d(1152, 192, kernel_size=(1, 1), stride=(1, 1), bias=False)\n",
              "            (1): BatchNorm2d(192, eps=1e-05, momentum=0.1, affine=True, track_running_stats=True)\n",
              "          )\n",
              "        )\n",
              "        (stochastic_depth): StochasticDepth(p=0.15000000000000002, mode=row)\n",
              "      )\n",
              "      (2): MBConv(\n",
              "        (block): Sequential(\n",
              "          (0): Conv2dNormActivation(\n",
              "            (0): Conv2d(192, 1152, kernel_size=(1, 1), stride=(1, 1), bias=False)\n",
              "            (1): BatchNorm2d(1152, eps=1e-05, momentum=0.1, affine=True, track_running_stats=True)\n",
              "            (2): SiLU(inplace=True)\n",
              "          )\n",
              "          (1): Conv2dNormActivation(\n",
              "            (0): Conv2d(1152, 1152, kernel_size=(5, 5), stride=(1, 1), padding=(2, 2), groups=1152, bias=False)\n",
              "            (1): BatchNorm2d(1152, eps=1e-05, momentum=0.1, affine=True, track_running_stats=True)\n",
              "            (2): SiLU(inplace=True)\n",
              "          )\n",
              "          (2): SqueezeExcitation(\n",
              "            (avgpool): AdaptiveAvgPool2d(output_size=1)\n",
              "            (fc1): Conv2d(1152, 48, kernel_size=(1, 1), stride=(1, 1))\n",
              "            (fc2): Conv2d(48, 1152, kernel_size=(1, 1), stride=(1, 1))\n",
              "            (activation): SiLU(inplace=True)\n",
              "            (scale_activation): Sigmoid()\n",
              "          )\n",
              "          (3): Conv2dNormActivation(\n",
              "            (0): Conv2d(1152, 192, kernel_size=(1, 1), stride=(1, 1), bias=False)\n",
              "            (1): BatchNorm2d(192, eps=1e-05, momentum=0.1, affine=True, track_running_stats=True)\n",
              "          )\n",
              "        )\n",
              "        (stochastic_depth): StochasticDepth(p=0.1625, mode=row)\n",
              "      )\n",
              "      (3): MBConv(\n",
              "        (block): Sequential(\n",
              "          (0): Conv2dNormActivation(\n",
              "            (0): Conv2d(192, 1152, kernel_size=(1, 1), stride=(1, 1), bias=False)\n",
              "            (1): BatchNorm2d(1152, eps=1e-05, momentum=0.1, affine=True, track_running_stats=True)\n",
              "            (2): SiLU(inplace=True)\n",
              "          )\n",
              "          (1): Conv2dNormActivation(\n",
              "            (0): Conv2d(1152, 1152, kernel_size=(5, 5), stride=(1, 1), padding=(2, 2), groups=1152, bias=False)\n",
              "            (1): BatchNorm2d(1152, eps=1e-05, momentum=0.1, affine=True, track_running_stats=True)\n",
              "            (2): SiLU(inplace=True)\n",
              "          )\n",
              "          (2): SqueezeExcitation(\n",
              "            (avgpool): AdaptiveAvgPool2d(output_size=1)\n",
              "            (fc1): Conv2d(1152, 48, kernel_size=(1, 1), stride=(1, 1))\n",
              "            (fc2): Conv2d(48, 1152, kernel_size=(1, 1), stride=(1, 1))\n",
              "            (activation): SiLU(inplace=True)\n",
              "            (scale_activation): Sigmoid()\n",
              "          )\n",
              "          (3): Conv2dNormActivation(\n",
              "            (0): Conv2d(1152, 192, kernel_size=(1, 1), stride=(1, 1), bias=False)\n",
              "            (1): BatchNorm2d(192, eps=1e-05, momentum=0.1, affine=True, track_running_stats=True)\n",
              "          )\n",
              "        )\n",
              "        (stochastic_depth): StochasticDepth(p=0.17500000000000002, mode=row)\n",
              "      )\n",
              "    )\n",
              "    (7): Sequential(\n",
              "      (0): MBConv(\n",
              "        (block): Sequential(\n",
              "          (0): Conv2dNormActivation(\n",
              "            (0): Conv2d(192, 1152, kernel_size=(1, 1), stride=(1, 1), bias=False)\n",
              "            (1): BatchNorm2d(1152, eps=1e-05, momentum=0.1, affine=True, track_running_stats=True)\n",
              "            (2): SiLU(inplace=True)\n",
              "          )\n",
              "          (1): Conv2dNormActivation(\n",
              "            (0): Conv2d(1152, 1152, kernel_size=(3, 3), stride=(1, 1), padding=(1, 1), groups=1152, bias=False)\n",
              "            (1): BatchNorm2d(1152, eps=1e-05, momentum=0.1, affine=True, track_running_stats=True)\n",
              "            (2): SiLU(inplace=True)\n",
              "          )\n",
              "          (2): SqueezeExcitation(\n",
              "            (avgpool): AdaptiveAvgPool2d(output_size=1)\n",
              "            (fc1): Conv2d(1152, 48, kernel_size=(1, 1), stride=(1, 1))\n",
              "            (fc2): Conv2d(48, 1152, kernel_size=(1, 1), stride=(1, 1))\n",
              "            (activation): SiLU(inplace=True)\n",
              "            (scale_activation): Sigmoid()\n",
              "          )\n",
              "          (3): Conv2dNormActivation(\n",
              "            (0): Conv2d(1152, 320, kernel_size=(1, 1), stride=(1, 1), bias=False)\n",
              "            (1): BatchNorm2d(320, eps=1e-05, momentum=0.1, affine=True, track_running_stats=True)\n",
              "          )\n",
              "        )\n",
              "        (stochastic_depth): StochasticDepth(p=0.1875, mode=row)\n",
              "      )\n",
              "    )\n",
              "    (8): Conv2dNormActivation(\n",
              "      (0): Conv2d(320, 1280, kernel_size=(1, 1), stride=(1, 1), bias=False)\n",
              "      (1): BatchNorm2d(1280, eps=1e-05, momentum=0.1, affine=True, track_running_stats=True)\n",
              "      (2): SiLU(inplace=True)\n",
              "    )\n",
              "  )\n",
              "  (avgpool): AdaptiveAvgPool2d(output_size=1)\n",
              "  (classifier): Sequential(\n",
              "    (0): Dropout(p=0.2, inplace=True)\n",
              "    (1): Linear(in_features=1280, out_features=1000, bias=True)\n",
              "  )\n",
              ")"
            ]
          },
          "metadata": {},
          "execution_count": 13
        }
      ]
    },
    {
      "cell_type": "markdown",
      "source": [
        "![image.png](data:image/png;base64,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)"
      ],
      "metadata": {
        "id": "d0ql_5L7Eu5i"
      }
    },
    {
      "cell_type": "code",
      "source": [
        "summary(model=model,\n",
        "        input_size=(32, 3, 224, 224),\n",
        "        col_names=[\"input_size\", \"output_size\", \"num_params\", \"trainable\"], # trainable means are the layers trainable(unfrozen) if trainable then we can train that layer\n",
        "        col_width=20,\n",
        "        row_settings=[\"var_names\"]\n",
        ")"
      ],
      "metadata": {
        "colab": {
          "base_uri": "https://localhost:8080/"
        },
        "id": "rvdGslcGEVR7",
        "outputId": "58d12366-6f44-41a6-e153-f01a586056fa"
      },
      "execution_count": null,
      "outputs": [
        {
          "output_type": "execute_result",
          "data": {
            "text/plain": [
              "============================================================================================================================================\n",
              "Layer (type (var_name))                                      Input Shape          Output Shape         Param #              Trainable\n",
              "============================================================================================================================================\n",
              "EfficientNet (EfficientNet)                                  [32, 3, 224, 224]    [32, 1000]           --                   True\n",
              "├─Sequential (features)                                      [32, 3, 224, 224]    [32, 1280, 7, 7]     --                   True\n",
              "│    └─Conv2dNormActivation (0)                              [32, 3, 224, 224]    [32, 32, 112, 112]   --                   True\n",
              "│    │    └─Conv2d (0)                                       [32, 3, 224, 224]    [32, 32, 112, 112]   864                  True\n",
              "│    │    └─BatchNorm2d (1)                                  [32, 32, 112, 112]   [32, 32, 112, 112]   64                   True\n",
              "│    │    └─SiLU (2)                                         [32, 32, 112, 112]   [32, 32, 112, 112]   --                   --\n",
              "│    └─Sequential (1)                                        [32, 32, 112, 112]   [32, 16, 112, 112]   --                   True\n",
              "│    │    └─MBConv (0)                                       [32, 32, 112, 112]   [32, 16, 112, 112]   1,448                True\n",
              "│    └─Sequential (2)                                        [32, 16, 112, 112]   [32, 24, 56, 56]     --                   True\n",
              "│    │    └─MBConv (0)                                       [32, 16, 112, 112]   [32, 24, 56, 56]     6,004                True\n",
              "│    │    └─MBConv (1)                                       [32, 24, 56, 56]     [32, 24, 56, 56]     10,710               True\n",
              "│    └─Sequential (3)                                        [32, 24, 56, 56]     [32, 40, 28, 28]     --                   True\n",
              "│    │    └─MBConv (0)                                       [32, 24, 56, 56]     [32, 40, 28, 28]     15,350               True\n",
              "│    │    └─MBConv (1)                                       [32, 40, 28, 28]     [32, 40, 28, 28]     31,290               True\n",
              "│    └─Sequential (4)                                        [32, 40, 28, 28]     [32, 80, 14, 14]     --                   True\n",
              "│    │    └─MBConv (0)                                       [32, 40, 28, 28]     [32, 80, 14, 14]     37,130               True\n",
              "│    │    └─MBConv (1)                                       [32, 80, 14, 14]     [32, 80, 14, 14]     102,900              True\n",
              "│    │    └─MBConv (2)                                       [32, 80, 14, 14]     [32, 80, 14, 14]     102,900              True\n",
              "│    └─Sequential (5)                                        [32, 80, 14, 14]     [32, 112, 14, 14]    --                   True\n",
              "│    │    └─MBConv (0)                                       [32, 80, 14, 14]     [32, 112, 14, 14]    126,004              True\n",
              "│    │    └─MBConv (1)                                       [32, 112, 14, 14]    [32, 112, 14, 14]    208,572              True\n",
              "│    │    └─MBConv (2)                                       [32, 112, 14, 14]    [32, 112, 14, 14]    208,572              True\n",
              "│    └─Sequential (6)                                        [32, 112, 14, 14]    [32, 192, 7, 7]      --                   True\n",
              "│    │    └─MBConv (0)                                       [32, 112, 14, 14]    [32, 192, 7, 7]      262,492              True\n",
              "│    │    └─MBConv (1)                                       [32, 192, 7, 7]      [32, 192, 7, 7]      587,952              True\n",
              "│    │    └─MBConv (2)                                       [32, 192, 7, 7]      [32, 192, 7, 7]      587,952              True\n",
              "│    │    └─MBConv (3)                                       [32, 192, 7, 7]      [32, 192, 7, 7]      587,952              True\n",
              "│    └─Sequential (7)                                        [32, 192, 7, 7]      [32, 320, 7, 7]      --                   True\n",
              "│    │    └─MBConv (0)                                       [32, 192, 7, 7]      [32, 320, 7, 7]      717,232              True\n",
              "│    └─Conv2dNormActivation (8)                              [32, 320, 7, 7]      [32, 1280, 7, 7]     --                   True\n",
              "│    │    └─Conv2d (0)                                       [32, 320, 7, 7]      [32, 1280, 7, 7]     409,600              True\n",
              "│    │    └─BatchNorm2d (1)                                  [32, 1280, 7, 7]     [32, 1280, 7, 7]     2,560                True\n",
              "│    │    └─SiLU (2)                                         [32, 1280, 7, 7]     [32, 1280, 7, 7]     --                   --\n",
              "├─AdaptiveAvgPool2d (avgpool)                                [32, 1280, 7, 7]     [32, 1280, 1, 1]     --                   --\n",
              "├─Sequential (classifier)                                    [32, 1280]           [32, 1000]           --                   True\n",
              "│    └─Dropout (0)                                           [32, 1280]           [32, 1280]           --                   --\n",
              "│    └─Linear (1)                                            [32, 1280]           [32, 1000]           1,281,000            True\n",
              "============================================================================================================================================\n",
              "Total params: 5,288,548\n",
              "Trainable params: 5,288,548\n",
              "Non-trainable params: 0\n",
              "Total mult-adds (Units.GIGABYTES): 12.35\n",
              "============================================================================================================================================\n",
              "Input size (MB): 19.27\n",
              "Forward/backward pass size (MB): 3452.35\n",
              "Params size (MB): 21.15\n",
              "Estimated Total Size (MB): 3492.77\n",
              "============================================================================================================================================"
            ]
          },
          "metadata": {},
          "execution_count": 14
        }
      ]
    },
    {
      "cell_type": "code",
      "source": [
        "for params in model.features.parameters():\n",
        "  params.requires_grad = False"
      ],
      "metadata": {
        "id": "6-Yp_YooGhJs"
      },
      "execution_count": null,
      "outputs": []
    },
    {
      "cell_type": "code",
      "source": [
        "output_shape = len(class_names)\n",
        "\n",
        "model.classifier = torch.nn.Sequential(\n",
        "    torch.nn.Dropout(p=0.2, inplace=True),\n",
        "    torch.nn.Linear(in_features=1280, out_features=output_shape, bias=True)\n",
        ").to(device)"
      ],
      "metadata": {
        "id": "RY_IPaJ7H117"
      },
      "execution_count": null,
      "outputs": []
    },
    {
      "cell_type": "code",
      "source": [
        "summary(model,\n",
        "        input_size=(32, 3, 224, 224),\n",
        "        verbose=0,\n",
        "        col_names = [\"input_size\", \"output_size\", \"num_params\", \"trainable\"],\n",
        "        col_width=20,\n",
        "        row_settings=[\"var_names\"])"
      ],
      "metadata": {
        "colab": {
          "base_uri": "https://localhost:8080/"
        },
        "id": "2yFS7_dvIZPB",
        "outputId": "c5679875-04c3-474b-c01f-873ee82d30a2"
      },
      "execution_count": null,
      "outputs": [
        {
          "output_type": "execute_result",
          "data": {
            "text/plain": [
              "============================================================================================================================================\n",
              "Layer (type (var_name))                                      Input Shape          Output Shape         Param #              Trainable\n",
              "============================================================================================================================================\n",
              "EfficientNet (EfficientNet)                                  [32, 3, 224, 224]    [32, 3]              --                   Partial\n",
              "├─Sequential (features)                                      [32, 3, 224, 224]    [32, 1280, 7, 7]     --                   False\n",
              "│    └─Conv2dNormActivation (0)                              [32, 3, 224, 224]    [32, 32, 112, 112]   --                   False\n",
              "│    │    └─Conv2d (0)                                       [32, 3, 224, 224]    [32, 32, 112, 112]   (864)                False\n",
              "│    │    └─BatchNorm2d (1)                                  [32, 32, 112, 112]   [32, 32, 112, 112]   (64)                 False\n",
              "│    │    └─SiLU (2)                                         [32, 32, 112, 112]   [32, 32, 112, 112]   --                   --\n",
              "│    └─Sequential (1)                                        [32, 32, 112, 112]   [32, 16, 112, 112]   --                   False\n",
              "│    │    └─MBConv (0)                                       [32, 32, 112, 112]   [32, 16, 112, 112]   (1,448)              False\n",
              "│    └─Sequential (2)                                        [32, 16, 112, 112]   [32, 24, 56, 56]     --                   False\n",
              "│    │    └─MBConv (0)                                       [32, 16, 112, 112]   [32, 24, 56, 56]     (6,004)              False\n",
              "│    │    └─MBConv (1)                                       [32, 24, 56, 56]     [32, 24, 56, 56]     (10,710)             False\n",
              "│    └─Sequential (3)                                        [32, 24, 56, 56]     [32, 40, 28, 28]     --                   False\n",
              "│    │    └─MBConv (0)                                       [32, 24, 56, 56]     [32, 40, 28, 28]     (15,350)             False\n",
              "│    │    └─MBConv (1)                                       [32, 40, 28, 28]     [32, 40, 28, 28]     (31,290)             False\n",
              "│    └─Sequential (4)                                        [32, 40, 28, 28]     [32, 80, 14, 14]     --                   False\n",
              "│    │    └─MBConv (0)                                       [32, 40, 28, 28]     [32, 80, 14, 14]     (37,130)             False\n",
              "│    │    └─MBConv (1)                                       [32, 80, 14, 14]     [32, 80, 14, 14]     (102,900)            False\n",
              "│    │    └─MBConv (2)                                       [32, 80, 14, 14]     [32, 80, 14, 14]     (102,900)            False\n",
              "│    └─Sequential (5)                                        [32, 80, 14, 14]     [32, 112, 14, 14]    --                   False\n",
              "│    │    └─MBConv (0)                                       [32, 80, 14, 14]     [32, 112, 14, 14]    (126,004)            False\n",
              "│    │    └─MBConv (1)                                       [32, 112, 14, 14]    [32, 112, 14, 14]    (208,572)            False\n",
              "│    │    └─MBConv (2)                                       [32, 112, 14, 14]    [32, 112, 14, 14]    (208,572)            False\n",
              "│    └─Sequential (6)                                        [32, 112, 14, 14]    [32, 192, 7, 7]      --                   False\n",
              "│    │    └─MBConv (0)                                       [32, 112, 14, 14]    [32, 192, 7, 7]      (262,492)            False\n",
              "│    │    └─MBConv (1)                                       [32, 192, 7, 7]      [32, 192, 7, 7]      (587,952)            False\n",
              "│    │    └─MBConv (2)                                       [32, 192, 7, 7]      [32, 192, 7, 7]      (587,952)            False\n",
              "│    │    └─MBConv (3)                                       [32, 192, 7, 7]      [32, 192, 7, 7]      (587,952)            False\n",
              "│    └─Sequential (7)                                        [32, 192, 7, 7]      [32, 320, 7, 7]      --                   False\n",
              "│    │    └─MBConv (0)                                       [32, 192, 7, 7]      [32, 320, 7, 7]      (717,232)            False\n",
              "│    └─Conv2dNormActivation (8)                              [32, 320, 7, 7]      [32, 1280, 7, 7]     --                   False\n",
              "│    │    └─Conv2d (0)                                       [32, 320, 7, 7]      [32, 1280, 7, 7]     (409,600)            False\n",
              "│    │    └─BatchNorm2d (1)                                  [32, 1280, 7, 7]     [32, 1280, 7, 7]     (2,560)              False\n",
              "│    │    └─SiLU (2)                                         [32, 1280, 7, 7]     [32, 1280, 7, 7]     --                   --\n",
              "├─AdaptiveAvgPool2d (avgpool)                                [32, 1280, 7, 7]     [32, 1280, 1, 1]     --                   --\n",
              "├─Sequential (classifier)                                    [32, 1280]           [32, 3]              --                   True\n",
              "│    └─Dropout (0)                                           [32, 1280]           [32, 1280]           --                   --\n",
              "│    └─Linear (1)                                            [32, 1280]           [32, 3]              3,843                True\n",
              "============================================================================================================================================\n",
              "Total params: 4,011,391\n",
              "Trainable params: 3,843\n",
              "Non-trainable params: 4,007,548\n",
              "Total mult-adds (Units.GIGABYTES): 12.31\n",
              "============================================================================================================================================\n",
              "Input size (MB): 19.27\n",
              "Forward/backward pass size (MB): 3452.09\n",
              "Params size (MB): 16.05\n",
              "Estimated Total Size (MB): 3487.41\n",
              "============================================================================================================================================"
            ]
          },
          "metadata": {},
          "execution_count": 17
        }
      ]
    },
    {
      "cell_type": "code",
      "source": [
        "loss_fn = nn.CrossEntropyLoss()\n",
        "optimizer = torch.optim.Adam(model.parameters(), lr=0.001)"
      ],
      "metadata": {
        "id": "oWYPNlyTIvnM"
      },
      "execution_count": null,
      "outputs": []
    },
    {
      "cell_type": "code",
      "source": [
        "import torch\n",
        "\n",
        "from tqdm.auto import tqdm\n",
        "from typing import Dict, List, Tuple\n",
        "\n",
        "def train_step(model: torch.nn.Module,\n",
        "               dataloader: torch.utils.data.DataLoader,\n",
        "               loss_fn: torch.nn.Module,\n",
        "               optimizer: torch.optim.Optimizer,\n",
        "               device: torch.device) -> Tuple[float, float]:\n",
        "  \"\"\"Trains a PyTorch model for a single epoch.\n",
        "\n",
        "  Turns a target PyTorch model to training mode and then\n",
        "  runs through all of the required training steps (forward\n",
        "  pass, loss calculation, optimizer step).\n",
        "\n",
        "  Args:\n",
        "    model: A PyTorch model to be trained.\n",
        "    dataloader: A DataLoader instance for the model to be trained on.\n",
        "    loss_fn: A PyTorch loss function to minimize.\n",
        "    optimizer: A PyTorch optimizer to help minimize the loss function.\n",
        "    device: A target device to compute on (e.g. \"cuda\" or \"cpu\").\n",
        "\n",
        "  Returns:\n",
        "    A tuple of training loss and training accuracy metrics.\n",
        "    In the form (train_loss, train_accuracy). For example:\n",
        "\n",
        "    (0.1112, 0.8743)\n",
        "  \"\"\"\n",
        "  # Put model in train mode\n",
        "  model.train()\n",
        "\n",
        "  # Setup train loss and train accuracy values\n",
        "  train_loss, train_acc = 0, 0\n",
        "\n",
        "  # Loop through data loader data batches\n",
        "  for batch, (X, y) in enumerate(dataloader):\n",
        "      # Send data to target device\n",
        "      X, y = X.to(device), y.to(device)\n",
        "\n",
        "      # 1. Forward pass\n",
        "      y_pred = model(X)\n",
        "\n",
        "      # 2. Calculate  and accumulate loss\n",
        "      loss = loss_fn(y_pred, y)\n",
        "      train_loss += loss.item()\n",
        "\n",
        "      # 3. Optimizer zero grad\n",
        "      optimizer.zero_grad()\n",
        "\n",
        "      # 4. Loss backward\n",
        "      loss.backward()\n",
        "\n",
        "      # 5. Optimizer step\n",
        "      optimizer.step()\n",
        "\n",
        "      # Calculate and accumulate accuracy metric across all batches\n",
        "      y_pred_class = torch.argmax(torch.softmax(y_pred, dim=1), dim=1)\n",
        "      train_acc += (y_pred_class == y).sum().item()/len(y_pred)\n",
        "\n",
        "  # Adjust metrics to get average loss and accuracy per batch\n",
        "  train_loss = train_loss / len(dataloader)\n",
        "  train_acc = train_acc / len(dataloader)\n",
        "  return train_loss, train_acc\n",
        "\n",
        "def test_step(model: torch.nn.Module,\n",
        "              dataloader: torch.utils.data.DataLoader,\n",
        "              loss_fn: torch.nn.Module,\n",
        "              device: torch.device) -> Tuple[float, float]:\n",
        "  \"\"\"Tests a PyTorch model for a single epoch.\n",
        "\n",
        "  Turns a target PyTorch model to \"eval\" mode and then performs\n",
        "  a forward pass on a testing dataset.\n",
        "\n",
        "  Args:\n",
        "    model: A PyTorch model to be tested.\n",
        "    dataloader: A DataLoader instance for the model to be tested on.\n",
        "    loss_fn: A PyTorch loss function to calculate loss on the test data.\n",
        "    device: A target device to compute on (e.g. \"cuda\" or \"cpu\").\n",
        "\n",
        "  Returns:\n",
        "    A tuple of testing loss and testing accuracy metrics.\n",
        "    In the form (test_loss, test_accuracy). For example:\n",
        "\n",
        "    (0.0223, 0.8985)\n",
        "  \"\"\"\n",
        "  # Put model in eval mode\n",
        "  model.eval()\n",
        "\n",
        "  # Setup test loss and test accuracy values\n",
        "  test_loss, test_acc = 0, 0\n",
        "\n",
        "  # Turn on inference context manager\n",
        "  with torch.inference_mode():\n",
        "      # Loop through DataLoader batches\n",
        "      for batch, (X, y) in enumerate(dataloader):\n",
        "          # Send data to target device\n",
        "          X, y = X.to(device), y.to(device)\n",
        "\n",
        "          # 1. Forward pass\n",
        "          test_pred_logits = model(X)\n",
        "\n",
        "          # 2. Calculate and accumulate loss\n",
        "          loss = loss_fn(test_pred_logits, y)\n",
        "          test_loss += loss.item()\n",
        "\n",
        "          # Calculate and accumulate accuracy\n",
        "          test_pred_labels = test_pred_logits.argmax(dim=1)\n",
        "          test_acc += ((test_pred_labels == y).sum().item()/len(test_pred_labels))\n",
        "\n",
        "  # Adjust metrics to get average loss and accuracy per batch\n",
        "  test_loss = test_loss / len(dataloader)\n",
        "  test_acc = test_acc / len(dataloader)\n",
        "  return test_loss, test_acc\n",
        "\n",
        "def train(model: torch.nn.Module,\n",
        "          train_dataloader: torch.utils.data.DataLoader,\n",
        "          test_dataloader: torch.utils.data.DataLoader,\n",
        "          optimizer: torch.optim.Optimizer,\n",
        "          loss_fn: torch.nn.Module,\n",
        "          epochs: int,\n",
        "          device: torch.device) -> Dict[str, List]:\n",
        "  \"\"\"Trains and tests a PyTorch model.\n",
        "\n",
        "  Passes a target PyTorch models through train_step() and test_step()\n",
        "  functions for a number of epochs, training and testing the model\n",
        "  in the same epoch loop.\n",
        "\n",
        "  Calculates, prints and stores evaluation metrics throughout.\n",
        "\n",
        "  Args:\n",
        "    model: A PyTorch model to be trained and tested.\n",
        "    train_dataloader: A DataLoader instance for the model to be trained on.\n",
        "    test_dataloader: A DataLoader instance for the model to be tested on.\n",
        "    optimizer: A PyTorch optimizer to help minimize the loss function.\n",
        "    loss_fn: A PyTorch loss function to calculate loss on both datasets.\n",
        "    epochs: An integer indicating how many epochs to train for.\n",
        "    device: A target device to compute on (e.g. \"cuda\" or \"cpu\").\n",
        "\n",
        "  Returns:\n",
        "    A dictionary of training and testing loss as well as training and\n",
        "    testing accuracy metrics. Each metric has a value in a list for\n",
        "    each epoch.\n",
        "    In the form: {train_loss: [...],\n",
        "                  train_acc: [...],\n",
        "                  test_loss: [...],\n",
        "                  test_acc: [...]}\n",
        "    For example if training for epochs=2:\n",
        "                 {train_loss: [2.0616, 1.0537],\n",
        "                  train_acc: [0.3945, 0.3945],\n",
        "                  test_loss: [1.2641, 1.5706],\n",
        "                  test_acc: [0.3400, 0.2973]}\n",
        "  \"\"\"\n",
        "  # Create empty results dictionary\n",
        "  results = {\"train_loss\": [],\n",
        "      \"train_acc\": [],\n",
        "      \"test_loss\": [],\n",
        "      \"test_acc\": []\n",
        "  }\n",
        "\n",
        "  # Loop through training and testing steps for a number of epochs\n",
        "  for epoch in tqdm(range(epochs)):\n",
        "      train_loss, train_acc = train_step(model=model,\n",
        "                                          dataloader=train_dataloader,\n",
        "                                          loss_fn=loss_fn,\n",
        "                                          optimizer=optimizer,\n",
        "                                          device=device)\n",
        "      test_loss, test_acc = test_step(model=model,\n",
        "          dataloader=test_dataloader,\n",
        "          loss_fn=loss_fn,\n",
        "          device=device)\n",
        "\n",
        "      # Print out what's happening\n",
        "      print(\n",
        "          f\"Epoch: {epoch+1} | \"\n",
        "          f\"train_loss: {train_loss:.4f} | \"\n",
        "          f\"train_acc: {train_acc:.4f} | \"\n",
        "          f\"test_loss: {test_loss:.4f} | \"\n",
        "          f\"test_acc: {test_acc:.4f}\"\n",
        "      )\n",
        "\n",
        "      # Update results dictionary\n",
        "      results[\"train_loss\"].append(train_loss)\n",
        "      results[\"train_acc\"].append(train_acc)\n",
        "      results[\"test_loss\"].append(test_loss)\n",
        "      results[\"test_acc\"].append(test_acc)\n",
        "\n",
        "  # Return the filled results at the end of the epochs\n",
        "  return results"
      ],
      "metadata": {
        "id": "5DtETWJCJM8y"
      },
      "execution_count": null,
      "outputs": []
    },
    {
      "cell_type": "code",
      "source": [
        "from timeit import default_timer as timer\n",
        "start_time = timer()\n",
        "\n",
        "results = train(model=model, train_dataloader=train_dataloader, test_dataloader=test_dataloader, optimizer=optimizer, loss_fn=loss_fn, epochs=10, device=device)\n",
        "\n",
        "end_time = timer()\n",
        "print(f\"[INFO] Total training time: {end_time-start_time:.3f} seconds\")"
      ],
      "metadata": {
        "colab": {
          "base_uri": "https://localhost:8080/",
          "height": 240,
          "referenced_widgets": [
            "bd2aa9b2b5774345ae4598380c8ad190",
            "d6f47e7eaaf042498abc00d79ff626f9",
            "aa2691a16a5c474085aae3f6b754bc7d",
            "cbf7370cd07e4585a6f7ed37ffbff9b1",
            "7e6bad83d64e49068971d61a65fa2b9d",
            "b5fbb622f8024385829bdc4e9d417264",
            "c0815f572e1644af98944890892759ef",
            "d080afbf9c794078825e1359b69028b9",
            "5c47d4f347ff4f0eb98c75a7b3f6b34c",
            "19f2ff89f0004d508cca374c4e4fd955",
            "f6c1ec3661bf4798b9ca8357eff374f4"
          ]
        },
        "id": "3KFCrdyQQhfV",
        "outputId": "ba07849a-74a5-49bb-979b-4ad8fbc85b68"
      },
      "execution_count": null,
      "outputs": [
        {
          "output_type": "display_data",
          "data": {
            "text/plain": [
              "  0%|          | 0/10 [00:00<?, ?it/s]"
            ],
            "application/vnd.jupyter.widget-view+json": {
              "version_major": 2,
              "version_minor": 0,
              "model_id": "bd2aa9b2b5774345ae4598380c8ad190"
            }
          },
          "metadata": {}
        },
        {
          "output_type": "stream",
          "name": "stdout",
          "text": [
            "Epoch: 1 | train_loss: 1.0385 | train_acc: 0.3906 | test_loss: 0.8463 | test_acc: 0.7737\n",
            "Epoch: 2 | train_loss: 0.8276 | train_acc: 0.7344 | test_loss: 0.7771 | test_acc: 0.7121\n",
            "Epoch: 3 | train_loss: 0.7319 | train_acc: 0.7656 | test_loss: 0.7138 | test_acc: 0.8239\n",
            "Epoch: 4 | train_loss: 0.6367 | train_acc: 0.8438 | test_loss: 0.6501 | test_acc: 0.8665\n",
            "Epoch: 5 | train_loss: 0.5713 | train_acc: 0.8906 | test_loss: 0.6065 | test_acc: 0.8371\n",
            "Epoch: 6 | train_loss: 0.5947 | train_acc: 0.7891 | test_loss: 0.5406 | test_acc: 0.8665\n",
            "Epoch: 7 | train_loss: 0.4841 | train_acc: 0.9414 | test_loss: 0.4948 | test_acc: 0.8456\n",
            "Epoch: 8 | train_loss: 0.4535 | train_acc: 0.9141 | test_loss: 0.4934 | test_acc: 0.8551\n",
            "Epoch: 9 | train_loss: 0.4382 | train_acc: 0.9258 | test_loss: 0.4484 | test_acc: 0.8854\n",
            "Epoch: 10 | train_loss: 0.4816 | train_acc: 0.8125 | test_loss: 0.4347 | test_acc: 0.8759\n",
            "[INFO] Total training time: 30.646 seconds\n"
          ]
        }
      ]
    },
    {
      "cell_type": "code",
      "source": [
        "try:\n",
        "    from helper_functions import plot_loss_curves\n",
        "except:\n",
        "    print(\"[INFO] Couldn't find helper_functions.py, downloading...\")\n",
        "    with open(\"helper_functions.py\", \"wb\") as f:\n",
        "        import requests\n",
        "        request = requests.get(\"https://raw.githubusercontent.com/mrdbourke/pytorch-deep-learning/main/helper_functions.py\")\n",
        "        f.write(request.content)\n",
        "    from helper_functions import plot_loss_curves"
      ],
      "metadata": {
        "colab": {
          "base_uri": "https://localhost:8080/"
        },
        "id": "sm6RAjxJRVeE",
        "outputId": "a6b7b945-fe04-4c07-c353-fdb33ddd84b9"
      },
      "execution_count": null,
      "outputs": [
        {
          "output_type": "stream",
          "name": "stdout",
          "text": [
            "[INFO] Couldn't find helper_functions.py, downloading...\n"
          ]
        }
      ]
    },
    {
      "cell_type": "code",
      "source": [
        "plot_loss_curves(results)"
      ],
      "metadata": {
        "colab": {
          "base_uri": "https://localhost:8080/",
          "height": 447
        },
        "id": "dN5YDKmdSK1M",
        "outputId": "2ad69422-449b-4888-d792-ba3cc0a1e805"
      },
      "execution_count": null,
      "outputs": [
        {
          "output_type": "display_data",
          "data": {
            "text/plain": [
              "<Figure size 1500x700 with 2 Axes>"
            ],
            "image/png": "[encoded data removed]"
          },
          "metadata": {}
        }
      ]
    },
    {
      "cell_type": "code",
      "source": [],
      "metadata": {
        "id": "8C7wcFbhSOsW"
      },
      "execution_count": null,
      "outputs": []
    }
  ]
}